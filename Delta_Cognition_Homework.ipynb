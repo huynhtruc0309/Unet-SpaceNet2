{
  "nbformat": 4,
  "nbformat_minor": 0,
  "metadata": {
    "colab": {
      "name": "\bDelta Cognition Homework.ipynb",
      "provenance": [],
      "collapsed_sections": [],
      "mount_file_id": "1r8VIR74IiKgcqbY_nigKRVXihZ9ZxpP5",
      "authorship_tag": "ABX9TyPHyJhYA+2KvC1hYvMXdYqr",
      "include_colab_link": true
    },
    "kernelspec": {
      "name": "python3",
      "display_name": "Python 3"
    },
    "language_info": {
      "name": "python"
    },
    "accelerator": "GPU"
  },
  "cells": [
    {
      "cell_type": "markdown",
      "metadata": {
        "id": "view-in-github",
        "colab_type": "text"
      },
      "source": [
        "<a href=\"https://colab.research.google.com/github/huynhtruc0309/Unet_SpaceNet2/blob/main/%08Delta_Cognition_Homework.ipynb\" target=\"_parent\"><img src=\"https://colab.research.google.com/assets/colab-badge.svg\" alt=\"Open In Colab\"/></a>"
      ]
    },
    {
      "cell_type": "code",
      "source": [
        "from google.colab import drive\n",
        "drive.mount('/content/drive')"
      ],
      "metadata": {
        "colab": {
          "base_uri": "https://localhost:8080/"
        },
        "id": "Zbckp9aQdeyO",
        "outputId": "e0908f86-edbb-4d2c-85f0-f2a4af266ec8"
      },
      "execution_count": 1,
      "outputs": [
        {
          "output_type": "stream",
          "name": "stdout",
          "text": [
            "Drive already mounted at /content/drive; to attempt to forcibly remount, call drive.mount(\"/content/drive\", force_remount=True).\n"
          ]
        }
      ]
    },
    {
      "cell_type": "code",
      "source": [
        "!pip install rasterio\n",
        "!pip install Fiona"
      ],
      "metadata": {
        "id": "hhL3WxM-_95K"
      },
      "execution_count": null,
      "outputs": []
    },
    {
      "cell_type": "code",
      "source": [
        "import torch\n",
        "import os\n",
        "\n",
        "TEST_SPLIT = 0.15\n",
        "DEVICE = \"cuda\" if torch.cuda.is_available() else \"cpu\"\n",
        "PIN_MEMORY = True if DEVICE == \"cuda\" else False\n",
        "\n",
        "# define the number of channels in the input, number of classes,\n",
        "# and number of levels in the U-Net model\n",
        "NUM_CHANNELS = 3\n",
        "NUM_CLASSES = 1\n",
        "NUM_LEVELS = 3\n",
        "\n",
        "# initialize learning rate, number of epochs to train for, and the\n",
        "# batch size\n",
        "INIT_LR = 0.001\n",
        "NUM_EPOCHS = 40\n",
        "BATCH_SIZE = 32\n",
        "\n",
        "# define the input image dimensions\n",
        "INPUT_IMAGE_WIDTH = 650\n",
        "INPUT_IMAGE_HEIGHT = 650\n",
        "\n",
        "# define threshold to filter weak predictions\n",
        "THRESHOLD = 0.5"
      ],
      "metadata": {
        "id": "5iEhr01iH--p"
      },
      "execution_count": 40,
      "outputs": []
    },
    {
      "cell_type": "code",
      "source": [
        "from torch.utils.data import Dataset\n",
        "import rasterio as rio\n",
        "import numpy as np\n",
        "from rasterio.crs import CRS\n",
        "from rasterio.features import rasterize\n",
        "from rasterio.transform import Affine\n",
        "import rasterio as rio\n",
        "import fiona\n",
        "from fiona.errors import FionaValueError\n",
        "from fiona.transform import transform_geom\n",
        "\n",
        "class SpaceNet2Dataset(Dataset):\n",
        "    def __init__(self, imagePaths, maskPaths, transforms):\n",
        "        self.imagePaths = imagePaths\n",
        "        self.maskPaths = maskPaths\n",
        "        self.transforms = transforms\n",
        "\n",
        "    def __len__(self):\n",
        "        return len(self.imagePaths)\n",
        "\n",
        "    def _load_image(self, imagePath):\n",
        "        filename = os.path.join(imagePath)\n",
        "        with rio.open(filename) as img:\n",
        "            array = img.read().astype(np.float32)\n",
        "            tensor = torch.from_numpy(array)\n",
        "            return tensor, img.transform, img.crs\n",
        "\n",
        "    def _load_mask(self, path: str, tfm, raster_crs, shape):\n",
        "        try:\n",
        "            with fiona.open(path) as src:\n",
        "                vector_crs = CRS(src.crs)\n",
        "                if raster_crs == vector_crs:\n",
        "                    labels = [feature[\"geometry\"] for feature in src]\n",
        "                else:\n",
        "                    labels = [\n",
        "                        transform_geom(\n",
        "                            vector_crs.to_string(),\n",
        "                            raster_crs.to_string(),\n",
        "                            feature[\"geometry\"],\n",
        "                        )\n",
        "                        for feature in src\n",
        "                    ]\n",
        "        except FionaValueError:\n",
        "            labels = []\n",
        "\n",
        "        if not labels:\n",
        "            mask_data = np.zeros(shape=shape)\n",
        "        else:\n",
        "            mask_data = rasterize(\n",
        "                labels,\n",
        "                out_shape=shape,\n",
        "                fill=0,  # nodata value\n",
        "                transform=tfm,\n",
        "                all_touched=False,\n",
        "                dtype=np.uint8,\n",
        "            )\n",
        "\n",
        "        mask: Tensor = torch.from_numpy(mask_data).long()  # type: ignore[attr-defined]\n",
        "\n",
        "        return mask\n",
        "\n",
        "    def __getitem__(self, idx: int):\n",
        "        imagePath = self.imagePaths[idx]\n",
        "        labelPath = self.maskPaths[idx]\n",
        "        img, tfm, raster_crs = self._load_image(imagePath)\n",
        "        h, w = img.shape[1:]\n",
        "        mask = self._load_mask(labelPath, tfm, raster_crs, (h, w))\n",
        "\n",
        "        ch, cw = INPUT_IMAGE_WIDTH, INPUT_IMAGE_HEIGHT\n",
        "        image, mask = img[:, :ch, :cw], mask[:ch, :cw]\n",
        "\n",
        "        if self.transforms is not None:\n",
        "            image = self.transforms(image)\n",
        "            mask = self.transforms(mask)\n",
        "\n",
        "        return (image, mask)"
      ],
      "metadata": {
        "id": "ciZM7501beIU"
      },
      "execution_count": 4,
      "outputs": []
    },
    {
      "cell_type": "code",
      "source": [
        "# define the path to the directory\n",
        "BASE_OUTPUT = \"/content/drive/MyDrive/2022/DeltaCognition/output\"\n",
        "COLLECTION = 'sn2_AOI_5_Khartoum'\n",
        "IMAGE_DATASET_PATH = '/content/drive/MyDrive/2022/DeltaCognition'\n",
        "FILE_NAME = 'PS-RGB.tif'\n",
        "LABEL_GLOB = 'labels.geojson'"
      ],
      "metadata": {
        "id": "u5IgdwjQJHta"
      },
      "execution_count": 5,
      "outputs": []
    },
    {
      "cell_type": "code",
      "source": [
        "# define the path to the output serialized model, model training\n",
        "# plot, and testing image paths\n",
        "MODEL_PATH = os.path.join(BASE_OUTPUT, \"unet_tgs_salt.pth\")\n",
        "PLOT_PATH = os.path.sep.join([BASE_OUTPUT, \"plot.png\"])\n",
        "TEST_PATHS = os.path.sep.join([BASE_OUTPUT, \"test_paths.txt\"])"
      ],
      "metadata": {
        "id": "dkaBliqlJP-Q"
      },
      "execution_count": 6,
      "outputs": []
    },
    {
      "cell_type": "code",
      "source": [
        "from torch.nn import ConvTranspose2d\n",
        "from torch.nn import Conv2d\n",
        "from torch.nn import MaxPool2d\n",
        "from torch.nn import Module\n",
        "from torch.nn import ModuleList\n",
        "from torch.nn import ReLU\n",
        "from torchvision.transforms import CenterCrop\n",
        "from torch.nn import functional as F"
      ],
      "metadata": {
        "id": "S9cPnEtHLs3g"
      },
      "execution_count": 7,
      "outputs": []
    },
    {
      "cell_type": "code",
      "source": [
        "class Block(Module):\n",
        "\tdef __init__(self, inChannels, outChannels):\n",
        "\t\tsuper().__init__()\n",
        "\t\t# store the convolution and RELU layers\n",
        "\t\tself.conv1 = Conv2d(inChannels, outChannels, 3)\n",
        "\t\tself.relu = ReLU()\n",
        "\t\tself.conv2 = Conv2d(outChannels, outChannels, 3)\n",
        "\n",
        "\tdef forward(self, x):\n",
        "\t\t# apply CONV => RELU => CONV block to the inputs and return it\n",
        "\t\treturn self.conv2(self.relu(self.conv1(x)))"
      ],
      "metadata": {
        "id": "U11rF_fCM93_"
      },
      "execution_count": 8,
      "outputs": []
    },
    {
      "cell_type": "code",
      "source": [
        "class Encoder(Module):\n",
        "\tdef __init__(self, channels=(3, 16, 32, 64)):\n",
        "\t\tsuper().__init__()\n",
        "\t\t# store the encoder blocks and maxpooling layer\n",
        "\t\tself.encBlocks = ModuleList(\n",
        "\t\t\t[Block(channels[i], channels[i + 1])\n",
        "\t\t\t \tfor i in range(len(channels) - 1)])\n",
        "\t\tself.pool = MaxPool2d(2)\n",
        "\n",
        "\tdef forward(self, x):\n",
        "\t\t# initialize an empty list to store the intermediate outputs\n",
        "\t\tblockOutputs = []\n",
        "\n",
        "\t\t# loop through the encoder blocks\n",
        "\t\tfor block in self.encBlocks:\n",
        "\t\t\t# pass the inputs through the current encoder block, store\n",
        "\t\t\t# the outputs, and then apply maxpooling on the output\n",
        "\t\t\tx = block(x)\n",
        "\t\t\tblockOutputs.append(x)\n",
        "\t\t\tx = self.pool(x)\n",
        "\n",
        "\t\t# return the list containing the intermediate outputs\n",
        "\t\treturn blockOutputs"
      ],
      "metadata": {
        "id": "TCeaA2fYNLci"
      },
      "execution_count": 9,
      "outputs": []
    },
    {
      "cell_type": "code",
      "source": [
        "class Decoder(Module):\n",
        "\tdef __init__(self, channels=(64, 32, 16)):\n",
        "\t\tsuper().__init__()\n",
        "\t\t# initialize the number of channels, upsampler blocks, and\n",
        "\t\t# decoder blocks\n",
        "\t\tself.channels = channels\n",
        "\t\tself.upconvs = ModuleList(\n",
        "\t\t\t[ConvTranspose2d(channels[i], channels[i + 1], 2, 2)\n",
        "\t\t\t \tfor i in range(len(channels) - 1)])\n",
        "\t\tself.dec_blocks = ModuleList(\n",
        "\t\t\t[Block(channels[i], channels[i + 1])\n",
        "\t\t\t \tfor i in range(len(channels) - 1)])\n",
        "\n",
        "\tdef forward(self, x, encFeatures):\n",
        "\t\t# loop through the number of channels\n",
        "\t\tfor i in range(len(self.channels) - 1):\n",
        "\t\t\t# pass the inputs through the upsampler blocks\n",
        "\t\t\tx = self.upconvs[i](x)\n",
        "\n",
        "\t\t\t# crop the current features from the encoder blocks,\n",
        "\t\t\t# concatenate them with the current upsampled features,\n",
        "\t\t\t# and pass the concatenated output through the current\n",
        "\t\t\t# decoder block\n",
        "\t\t\tencFeat = self.crop(encFeatures[i], x)\n",
        "\t\t\tx = torch.cat([x, encFeat], dim=1)\n",
        "\t\t\tx = self.dec_blocks[i](x)\n",
        "\n",
        "\t\t# return the final decoder output\n",
        "\t\treturn x\n",
        "\n",
        "\tdef crop(self, encFeatures, x):\n",
        "\t\t# grab the dimensions of the inputs, and crop the encoder\n",
        "\t\t# features to match the dimensions\n",
        "\t\t(_, _, H, W) = x.shape\n",
        "\t\tencFeatures = CenterCrop([H, W])(encFeatures)\n",
        "\n",
        "\t\t# return the cropped features\n",
        "\t\treturn encFeatures"
      ],
      "metadata": {
        "id": "4mAPb9_rNXwT"
      },
      "execution_count": 10,
      "outputs": []
    },
    {
      "cell_type": "code",
      "source": [
        "class UNet(Module):\n",
        "  def __init__(self, encChannels=(3, 16, 32, 64), decChannels=(64, 32, 16), nbClasses=1, retainDim=True, outSize=(INPUT_IMAGE_HEIGHT,  INPUT_IMAGE_WIDTH)):\n",
        "    super().__init__()\n",
        "    # initialize the encoder and decoder\n",
        "    self.encoder = Encoder(encChannels)\n",
        "    self.decoder = Decoder(decChannels)\n",
        "\n",
        "    # initialize the regression head and store the class variables\n",
        "    self.head = Conv2d(decChannels[-1], nbClasses, 1)\n",
        "    self.retainDim = retainDim\n",
        "    self.outSize = outSize\n",
        "\n",
        "  def forward(self, x):\n",
        "    # grab the features from the encoder\n",
        "    encFeatures = self.encoder(x)\n",
        "\n",
        "\t\t# pass the encoder features through decoder making sure that\n",
        "\t\t# their dimensions are suited for concatenation\n",
        "    decFeatures = self.decoder(encFeatures[::-1][0], encFeatures[::-1][1:])\n",
        "\n",
        "\t\t# pass the decoder features through the regression head to\n",
        "\t\t# obtain the segmentation mask\n",
        "    map = self.head(decFeatures)\n",
        "\n",
        "    # check to see if we are retaining the original output\n",
        "\t\t# dimensions and if so, then resize the output to match them\n",
        "    if self.retainDim:\n",
        "      map = F.interpolate(map, self.outSize)\n",
        "\n",
        "\t\t# return the segmentation map\n",
        "    return map"
      ],
      "metadata": {
        "id": "hlwo0BybOZgx"
      },
      "execution_count": 11,
      "outputs": []
    },
    {
      "cell_type": "code",
      "source": [
        "from torch.nn import BCEWithLogitsLoss\n",
        "from torch.optim import Adam\n",
        "from torch.utils.data import DataLoader\n",
        "from sklearn.model_selection import train_test_split\n",
        "from torchvision import transforms\n",
        "from imutils import paths\n",
        "from tqdm import tqdm\n",
        "import matplotlib.pyplot as plt\n",
        "import time\n",
        "import glob"
      ],
      "metadata": {
        "id": "9E49xAbEN1S6"
      },
      "execution_count": 12,
      "outputs": []
    },
    {
      "cell_type": "code",
      "source": [
        "imagePaths, maskPaths = [], []\n",
        "imagePaths = glob.glob(os.path.join(IMAGE_DATASET_PATH, COLLECTION, \"*\", FILE_NAME))\n",
        "imagePaths = sorted(imagePaths)\n",
        "for imgpath in imagePaths:\n",
        "    lbl_path = os.path.join(\n",
        "        os.path.dirname(imgpath) + \"-labels\", LABEL_GLOB\n",
        "    )\n",
        "    maskPaths.append(lbl_path)"
      ],
      "metadata": {
        "id": "Wlnd8H6ggp8w"
      },
      "execution_count": 13,
      "outputs": []
    },
    {
      "cell_type": "code",
      "source": [
        "# partition the data into training and testing splits using 85% of\n",
        "# the data for training and the remaining 15% for testing\n",
        "split = train_test_split(imagePaths, maskPaths,\n",
        "\ttest_size=TEST_SPLIT, random_state=42)\n",
        "\n",
        "# unpack the data split\n",
        "(trainImages, testImages) = split[:2]\n",
        "(trainMasks, testMasks) = split[2:]\n",
        "\n",
        "# write the testing image paths to disk so that we can use then\n",
        "# when evaluating/testing our model\n",
        "print(\"[INFO] saving testing image paths...\")\n",
        "f = open(TEST_PATHS, \"w\")\n",
        "f.write(\"\\n\".join(testImages))\n",
        "f.close() "
      ],
      "metadata": {
        "colab": {
          "base_uri": "https://localhost:8080/"
        },
        "id": "YkJG70Cned1E",
        "outputId": "5a428ae0-dd04-4d01-bd6d-e5a092e19641"
      },
      "execution_count": 41,
      "outputs": [
        {
          "output_type": "stream",
          "name": "stdout",
          "text": [
            "[INFO] saving testing image paths...\n"
          ]
        }
      ]
    },
    {
      "cell_type": "code",
      "source": [
        "# define transformations\n",
        "# transforms = transforms.Compose([transforms.ToPILImage(),\n",
        "#  \ttransforms.Resize((INPUT_IMAGE_HEIGHT, INPUT_IMAGE_WIDTH)),\n",
        "# \ttransforms.ToTensor()])\n",
        "\n",
        "# create the train and test datasets\n",
        "trainDS = SpaceNet2Dataset(imagePaths=trainImages, maskPaths=trainMasks,\n",
        "\ttransforms=None)\n",
        "testDS = SpaceNet2Dataset(imagePaths=testImages, maskPaths=testMasks,\n",
        "    transforms=None)\n",
        "print(f\"[INFO] found {len(trainDS)} examples in the training set...\")\n",
        "print(f\"[INFO] found {len(testDS)} examples in the test set...\")\n",
        "\n",
        "# create the training and test data loaders\n",
        "trainLoader = DataLoader(trainDS, shuffle=True,\n",
        "\tbatch_size=BATCH_SIZE, pin_memory=PIN_MEMORY,\n",
        "\tnum_workers=os.cpu_count())\n",
        "testLoader = DataLoader(testDS, shuffle=False,\n",
        "\tbatch_size=BATCH_SIZE, pin_memory=PIN_MEMORY,\n",
        "\tnum_workers=os.cpu_count())\n"
      ],
      "metadata": {
        "colab": {
          "base_uri": "https://localhost:8080/"
        },
        "id": "2AYZ7fnSnvGY",
        "outputId": "9548de8e-62f8-4397-b87f-38bcbf5504e5"
      },
      "execution_count": 42,
      "outputs": [
        {
          "output_type": "stream",
          "name": "stdout",
          "text": [
            "[INFO] found 860 examples in the training set...\n",
            "[INFO] found 152 examples in the test set...\n"
          ]
        }
      ]
    },
    {
      "cell_type": "code",
      "source": [
        "# initialize our UNet model\n",
        "unet = UNet().to(DEVICE)\n",
        "\n",
        "# initialize loss function and optimizer\n",
        "lossFunc = BCEWithLogitsLoss()\n",
        "opt = Adam(unet.parameters(), lr=INIT_LR)\n",
        "\n",
        "# calculate steps per epoch for training and test set\n",
        "trainSteps = len(trainDS) // BATCH_SIZE\n",
        "testSteps = len(testDS) // BATCH_SIZE\n",
        "\n",
        "# initialize a dictionary to store training history\n",
        "H = {\"train_loss\": [], \"test_loss\": []}"
      ],
      "metadata": {
        "id": "8mglIdMCorlO"
      },
      "execution_count": 43,
      "outputs": []
    },
    {
      "cell_type": "code",
      "source": [
        "# loop over epochs\n",
        "print(\"[INFO] training the network...\")\n",
        "startTime = time.time()\n",
        "for e in tqdm(range(NUM_EPOCHS)):\n",
        "\t# set the model in training mode\n",
        "\tunet.train()\n",
        "\n",
        "\t# initialize the total training and validation loss\n",
        "\ttotalTrainLoss = 0\n",
        "\ttotalTestLoss = 0\n",
        "\n",
        "\t# loop over the training set\n",
        "\tfor (i, (x, y)) in enumerate(trainLoader):\n",
        "\t\t# send the input to the device\n",
        "\t\t(x, y) = (x.to(DEVICE), y.to(DEVICE))\n",
        "\t\t\n",
        "\t\t# perform a forward pass and calculate the training loss\n",
        "\t\tpred = unet(x)\n",
        "\t\tpred = torch.squeeze(pred, 1)\n",
        "\t\tloss = lossFunc(pred, y.float())\n",
        "\n",
        "\t\t# first, zero out any previously accumulated gradients, then\n",
        "\t\t# perform backpropagation, and then update model parameters\n",
        "\t\topt.zero_grad()\n",
        "\t\tloss.backward()\n",
        "\t\topt.step()\n",
        "\n",
        "\t\t# add the loss to the total training loss so far\n",
        "\t\ttotalTrainLoss += loss.detach()\n",
        "\n",
        "\t# switch off autograd\n",
        "\twith torch.no_grad():\n",
        "\t\t# set the model in evaluation mode\n",
        "\t\tunet.eval()\n",
        "\n",
        "\t\t# loop over the validation set\n",
        "\t\tfor (x, y) in testLoader:\n",
        "\t\t\t# send the input to the device\n",
        "\t\t\t(x, y) = (x.to(DEVICE), y.to(DEVICE))\n",
        "\n",
        "\t\t\t# make the predictions and calculate the validation loss\n",
        "\t\t\tpred = unet(x)\n",
        "\t\t\tpred = torch.squeeze(pred, 1)\n",
        "\t\t\ttotalTestLoss += lossFunc(pred, y.float())\n",
        "\n",
        "\t# calculate the average training and validation loss\n",
        "\tavgTrainLoss = totalTrainLoss / trainSteps\n",
        "\tavgTestLoss = totalTestLoss / testSteps\n",
        "\n",
        "\t# update our training history\n",
        "\tH[\"train_loss\"].append(avgTrainLoss.cpu().detach().numpy())\n",
        "\tH[\"test_loss\"].append(avgTestLoss.cpu().detach().numpy())\n",
        "\n",
        "\t# print the model training and validation information\n",
        "\tprint(\"[INFO] EPOCH: {}/{}\".format(e + 1, NUM_EPOCHS))\n",
        "\tprint(\"Train loss: {:.6f}, Test loss: {:.4f}\".format(\n",
        "\t\tavgTrainLoss, avgTestLoss))\n",
        " \n",
        "# display the total time needed to perform the training \n",
        "endTime = time.time()\n",
        "print(\"[INFO] total time taken to train the model: {:.2f}s\".format(\n",
        "\tendTime - startTime))"
      ],
      "metadata": {
        "colab": {
          "base_uri": "https://localhost:8080/",
          "height": 640
        },
        "id": "0-zyPSTPpfIL",
        "outputId": "52c03bb4-362b-4cc1-f115-c6c2c1128b8f"
      },
      "execution_count": 45,
      "outputs": [
        {
          "output_type": "stream",
          "name": "stdout",
          "text": [
            "[INFO] training the network...\n"
          ]
        },
        {
          "output_type": "stream",
          "name": "stderr",
          "text": [
            "  2%|▎         | 1/40 [00:47<30:36, 47.09s/it]"
          ]
        },
        {
          "output_type": "stream",
          "name": "stdout",
          "text": [
            "[INFO] EPOCH: 1/40\n",
            "Train loss: 0.616814, Test loss: 0.0000\n"
          ]
        },
        {
          "output_type": "stream",
          "name": "stderr",
          "text": [
            "\r  5%|▌         | 2/40 [01:32<29:19, 46.29s/it]"
          ]
        },
        {
          "output_type": "stream",
          "name": "stdout",
          "text": [
            "[INFO] EPOCH: 2/40\n",
            "Train loss: 0.000000, Test loss: 0.0000\n"
          ]
        },
        {
          "output_type": "stream",
          "name": "stderr",
          "text": [
            "\r  8%|▊         | 3/40 [02:19<28:34, 46.33s/it]"
          ]
        },
        {
          "output_type": "stream",
          "name": "stdout",
          "text": [
            "[INFO] EPOCH: 3/40\n",
            "Train loss: 0.000000, Test loss: 0.0000\n"
          ]
        },
        {
          "output_type": "stream",
          "name": "stderr",
          "text": [
            "\r 10%|█         | 4/40 [03:05<27:54, 46.52s/it]"
          ]
        },
        {
          "output_type": "stream",
          "name": "stdout",
          "text": [
            "[INFO] EPOCH: 4/40\n",
            "Train loss: 0.000000, Test loss: 0.0000\n"
          ]
        },
        {
          "output_type": "stream",
          "name": "stderr",
          "text": [
            "\r 12%|█▎        | 5/40 [03:53<27:14, 46.71s/it]"
          ]
        },
        {
          "output_type": "stream",
          "name": "stdout",
          "text": [
            "[INFO] EPOCH: 5/40\n",
            "Train loss: 0.000000, Test loss: 0.0000\n"
          ]
        },
        {
          "output_type": "stream",
          "name": "stderr",
          "text": [
            "\r 15%|█▌        | 6/40 [04:40<26:32, 46.83s/it]"
          ]
        },
        {
          "output_type": "stream",
          "name": "stdout",
          "text": [
            "[INFO] EPOCH: 6/40\n",
            "Train loss: 0.000000, Test loss: 0.0000\n"
          ]
        },
        {
          "output_type": "stream",
          "name": "stderr",
          "text": [
            "\r 18%|█▊        | 7/40 [05:27<25:47, 46.89s/it]"
          ]
        },
        {
          "output_type": "stream",
          "name": "stdout",
          "text": [
            "[INFO] EPOCH: 7/40\n",
            "Train loss: 0.000000, Test loss: 0.0000\n"
          ]
        },
        {
          "output_type": "stream",
          "name": "stderr",
          "text": [
            "\r 20%|██        | 8/40 [06:14<25:01, 46.93s/it]"
          ]
        },
        {
          "output_type": "stream",
          "name": "stdout",
          "text": [
            "[INFO] EPOCH: 8/40\n",
            "Train loss: 0.000000, Test loss: 0.0000\n"
          ]
        },
        {
          "output_type": "stream",
          "name": "stderr",
          "text": [
            "\r 22%|██▎       | 9/40 [07:01<24:16, 46.98s/it]"
          ]
        },
        {
          "output_type": "stream",
          "name": "stdout",
          "text": [
            "[INFO] EPOCH: 9/40\n",
            "Train loss: 0.000000, Test loss: 0.0000\n"
          ]
        },
        {
          "output_type": "stream",
          "name": "stderr",
          "text": [
            "\r 25%|██▌       | 10/40 [07:48<23:30, 47.01s/it]"
          ]
        },
        {
          "output_type": "stream",
          "name": "stdout",
          "text": [
            "[INFO] EPOCH: 10/40\n",
            "Train loss: 0.000000, Test loss: 0.0000\n"
          ]
        },
        {
          "output_type": "stream",
          "name": "stderr",
          "text": [
            "\r 28%|██▊       | 11/40 [08:35<22:44, 47.06s/it]"
          ]
        },
        {
          "output_type": "stream",
          "name": "stdout",
          "text": [
            "[INFO] EPOCH: 11/40\n",
            "Train loss: 0.000000, Test loss: 0.0000\n"
          ]
        },
        {
          "output_type": "stream",
          "name": "stderr",
          "text": [
            "\r 28%|██▊       | 11/40 [08:52<23:24, 48.44s/it]\n"
          ]
        },
        {
          "output_type": "error",
          "ename": "KeyboardInterrupt",
          "evalue": "ignored",
          "traceback": [
            "\u001b[0;31m---------------------------------------------------------------------------\u001b[0m",
            "\u001b[0;31mKeyboardInterrupt\u001b[0m                         Traceback (most recent call last)",
            "\u001b[0;32m<ipython-input-45-a2c1d9207cfa>\u001b[0m in \u001b[0;36m<module>\u001b[0;34m()\u001b[0m\n\u001b[1;32m     13\u001b[0m         \u001b[0;32mfor\u001b[0m \u001b[0;34m(\u001b[0m\u001b[0mi\u001b[0m\u001b[0;34m,\u001b[0m \u001b[0;34m(\u001b[0m\u001b[0mx\u001b[0m\u001b[0;34m,\u001b[0m \u001b[0my\u001b[0m\u001b[0;34m)\u001b[0m\u001b[0;34m)\u001b[0m \u001b[0;32min\u001b[0m \u001b[0menumerate\u001b[0m\u001b[0;34m(\u001b[0m\u001b[0mtrainLoader\u001b[0m\u001b[0;34m)\u001b[0m\u001b[0;34m:\u001b[0m\u001b[0;34m\u001b[0m\u001b[0;34m\u001b[0m\u001b[0m\n\u001b[1;32m     14\u001b[0m                 \u001b[0;31m# send the input to the device\u001b[0m\u001b[0;34m\u001b[0m\u001b[0;34m\u001b[0m\u001b[0;34m\u001b[0m\u001b[0m\n\u001b[0;32m---> 15\u001b[0;31m                 \u001b[0;34m(\u001b[0m\u001b[0mx\u001b[0m\u001b[0;34m,\u001b[0m \u001b[0my\u001b[0m\u001b[0;34m)\u001b[0m \u001b[0;34m=\u001b[0m \u001b[0;34m(\u001b[0m\u001b[0mx\u001b[0m\u001b[0;34m.\u001b[0m\u001b[0mto\u001b[0m\u001b[0;34m(\u001b[0m\u001b[0mDEVICE\u001b[0m\u001b[0;34m)\u001b[0m\u001b[0;34m,\u001b[0m \u001b[0my\u001b[0m\u001b[0;34m.\u001b[0m\u001b[0mto\u001b[0m\u001b[0;34m(\u001b[0m\u001b[0mDEVICE\u001b[0m\u001b[0;34m)\u001b[0m\u001b[0;34m)\u001b[0m\u001b[0;34m\u001b[0m\u001b[0;34m\u001b[0m\u001b[0m\n\u001b[0m\u001b[1;32m     16\u001b[0m \u001b[0;34m\u001b[0m\u001b[0m\n\u001b[1;32m     17\u001b[0m                 \u001b[0;31m# perform a forward pass and calculate the training loss\u001b[0m\u001b[0;34m\u001b[0m\u001b[0;34m\u001b[0m\u001b[0;34m\u001b[0m\u001b[0m\n",
            "\u001b[0;31mKeyboardInterrupt\u001b[0m: "
          ]
        }
      ]
    },
    {
      "cell_type": "code",
      "source": [
        ""
      ],
      "metadata": {
        "id": "Cu6pM62qdw7W"
      },
      "execution_count": null,
      "outputs": []
    }
  ]
}